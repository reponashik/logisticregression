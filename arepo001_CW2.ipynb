{
 "cells": [
  {
   "cell_type": "markdown",
   "metadata": {},
   "source": [
    "# Implementation of Logistic Regression using Batch Gradient Descent"
   ]
  },
  {
   "cell_type": "markdown",
   "metadata": {},
   "source": [
    "Ashik Repon \n",
    "Coursework 2 \n",
    "Machine Learning \n",
    "2020/2021"
   ]
  },
  {
   "cell_type": "markdown",
   "metadata": {},
   "source": [
    "<i> The Report and the answers of the questions are present at the end of the implementation. <i>"
   ]
  },
  {
   "cell_type": "code",
   "execution_count": 1,
   "metadata": {},
   "outputs": [
    {
     "data": {
      "text/plain": [
       "'\\nimporting all the essential libraries \\n\\nNumpy: NumPy is a Python library used for working with arrays \\nIt also has functions that aid linear algebra and matrices.\\n\\n\\nMatplotlib: Python library used to creatic static visualisations. \\n'"
      ]
     },
     "execution_count": 1,
     "metadata": {},
     "output_type": "execute_result"
    }
   ],
   "source": [
    "import numpy as np #importing NumPy\n",
    "from matplotlib import pyplot as plt #Importing Matplotlib\n",
    "'''\n",
    "importing all the essential libraries \n",
    "\n",
    "Numpy: NumPy is a Python library used for working with arrays \n",
    "It also has functions that aid linear algebra and matrices.\n",
    "\n",
    "\n",
    "Matplotlib: Python library used to creatic static visualisations. \n",
    "'''"
   ]
  },
  {
   "cell_type": "code",
   "execution_count": 2,
   "metadata": {},
   "outputs": [],
   "source": [
    "'''\n",
    "This block contains the dataset.\n",
    "Probability of passing an exam vs hours studies \n",
    "\n",
    "X: This is a numpy array containing the hours studied \n",
    "y: Contains the probability of passing, which is binary (0 is fail, 1 is pass)\n",
    "\n",
    "source of the dataset: \n",
    "\n",
    "https://en.wikipedia.org/wiki/Logistic_regression#Probability_of_passing_an_exam_versus_hours_of_study\n",
    "\n",
    "'''\n",
    "\n",
    "X = np.asarray ([[0.50], [0.75], [1.00], [1.25], [1.50], [1.75], [3.00], [4.75],\n",
    "[1.75], [3.25], [5.00], [2.00], [2.25], [2.50], [2.75], [3.50], [4.00], [4.25],\n",
    "[4.50], [5.50]])\n",
    "\n",
    "y = np.asarray([0, 0, 0, 0, 0, 0, 1, 0, 1, 0, 1,0,1,0,1,1,1,1,1,1]) \n"
   ]
  },
  {
   "cell_type": "code",
   "execution_count": 3,
   "metadata": {},
   "outputs": [
    {
     "data": {
      "image/png": "[encoded data removed]",
      "text/plain": [
       "<Figure size 432x288 with 1 Axes>"
      ]
     },
     "metadata": {
      "needs_background": "light"
     },
     "output_type": "display_data"
    }
   ],
   "source": [
    "'''\n",
    "This code is necessary to visualise the code \n",
    "This is commonly known as the data visualisation phase in machine learning. \n",
    "This was not a requirement, but it helps to understand the type of data that the \n",
    "problem is dealing with \n",
    "\n",
    "From the distribution of the points in the graph below, it can be deducted that this problem\n",
    "requires logistic regression in order to be solved, as linear regression would not fit this \n",
    "data in the best manner.\n",
    "\n",
    "\n",
    "plt.scatter() : sets the properties, properties contain x and y axis, feature to plot and color scheme. \n",
    "\n",
    "'''\n",
    "\n",
    "plt.scatter(X,y, c=y, cmap='jet')\n",
    "plt.title('Logistic Regression Plot')\n",
    "plt.show()"
   ]
  },
  {
   "cell_type": "code",
   "execution_count": 4,
   "metadata": {
    "scrolled": true
   },
   "outputs": [
    {
     "name": "stdout",
     "output_type": "stream",
     "text": [
      "[[1.75 0.5  1.75 3.25 1.   2.25 5.   1.5  4.5  4.   4.75 4.25 2.75 3.\n",
      "  2.   1.25 2.5  0.75 3.5  5.5 ]\n",
      " [1.   0.   0.   0.   0.   1.   1.   0.   1.   1.   0.   1.   1.   1.\n",
      "  0.   0.   0.   0.   1.   1.  ]]\n"
     ]
    }
   ],
   "source": [
    "'''\n",
    "Data pre-processing \n",
    "\n",
    "np.vstack: sorting the elements of the arrays horrizontally (row-wise)\n",
    "np.random.shuffle: shuffling the data randomly everytime the cell is being run \n",
    "\n",
    "'''\n",
    "data = np.vstack((X.reshape(X.shape[0],), y)) #sorting numpy arrays\n",
    "#matching the dimensions for stacking\n",
    "np.random.shuffle(data.T) #shuffling data\n",
    "\n",
    "print(data)"
   ]
  },
  {
   "cell_type": "code",
   "execution_count": 5,
   "metadata": {},
   "outputs": [
    {
     "name": "stdout",
     "output_type": "stream",
     "text": [
      "(2, 15)\n",
      "(2, 5)\n"
     ]
    }
   ],
   "source": [
    "'''\n",
    "Splitting into training set and test set\n",
    "The split is 15:5 given that there are only 20 observations. \n",
    "The data is being re-shaped to fit the dimensions necessary\n",
    "'''\n",
    "\n",
    "train = data[:, :15] #using Python slice operations to split data\n",
    "test = data[:, 15:]\n",
    "\n",
    "print(train.shape) #printing to check shape is correct\n",
    "print(test.shape)\n",
    "\n",
    "X_train = train[0, :].reshape(1,train.shape[1] ) #reshaping to fit dimensions\n",
    "Y_train = train[1, :].reshape(1, train.shape[1])\n",
    "\n",
    "X_test = test[0, :].reshape(1, test.shape[1])\n",
    "Y_test = test[1,:].reshape(1, test.shape[1])"
   ]
  },
  {
   "cell_type": "code",
   "execution_count": 6,
   "metadata": {},
   "outputs": [
    {
     "name": "stdout",
     "output_type": "stream",
     "text": [
      "(1, 15)\n",
      "(1, 5)\n",
      "(1, 15)\n",
      "(1, 5)\n"
     ]
    }
   ],
   "source": [
    "#Checking if the shape have been pre-processed properly.\n",
    "\n",
    "'''\n",
    "Checking shapes of training and test sets. \n",
    "\n",
    "'''\n",
    "print(X_train.shape)\n",
    "print(X_test.shape)\n",
    "print(Y_train.shape)\n",
    "print(Y_test.shape)"
   ]
  },
  {
   "cell_type": "code",
   "execution_count": 7,
   "metadata": {},
   "outputs": [],
   "source": [
    "#Definition of sigmoid function necessary for logistic regression. \n",
    "\n",
    "def sigmoid(x):\n",
    "    '''\n",
    "    This is the Sigmoid Hypothesis Function. exp is a function from math which raises the value in the brackets to the power of the \n",
    "    Euler's constant and it is a command part of the NumPy library. \n",
    "    \n",
    "    '''\n",
    "    result = 1/(1+np.exp(-x)) \n",
    "    return result"
   ]
  },
  {
   "cell_type": "code",
   "execution_count": 8,
   "metadata": {},
   "outputs": [],
   "source": [
    "def logistic(X, y, lr, iterations): #parameters include data, targets, learning rate and number of iterations\n",
    "    '''\n",
    "    Logistic is the main function which contains \n",
    "    -Gradient Descent \n",
    "    -Cost Function \n",
    "    -Saves loss values in an array\n",
    "    -Applies all mathematical notations for logistic regression \n",
    "    \n",
    "    '''\n",
    "    m = X_train.shape[1] #initialising m with shape 1\n",
    "    n = X_train.shape[0] #initialising n with shape 15\n",
    "    \n",
    "    '''\n",
    "    m and n represent the dimensions of the input data. \n",
    "    The naming convention derives from matrix dimensions commonly being referred to as m and n\n",
    "    in the majority of mathematical notations. \n",
    "    \n",
    "    m represents the dimension of the data observations --> hours worked\n",
    "    n represents the number of features that m has. \n",
    "    \n",
    "    \n",
    "    '''\n",
    "    \n",
    "    W = np.zeros((n,1)) #initialise weight parameter with suitable shape\n",
    "    B = 0 #initialise bias parameter\n",
    "    '''\n",
    "    W & B are the parameters that update in the upcoming Batch Gradient Descent\n",
    "    \n",
    "    '''\n",
    "\n",
    "    lossvalues = [] #list in which values of each iteration is being saved \n",
    "    \n",
    "    \n",
    "    '''\n",
    "    The For Loop below implements: \n",
    "    -Cost Function\n",
    "    -Gradient Descent \n",
    "    -Conditional Statement to print Loss values at relevant iterations\n",
    "    \n",
    "    '''\n",
    "    for i in range(iterations):\n",
    "        dotpro = np.dot(W.T, X) + B #this line is executing dot product using numpy.dot()\n",
    "        h = sigmoid(dotpro)\n",
    "        '''\n",
    "        Variables\n",
    "        \n",
    "        dotpro: The variable dotpro implements the dot product between the input, the W weight and the bias B. This variable\n",
    "        is passed as an argument inside the sigmoid hypothesis function. \n",
    "        \n",
    "        h: h stands for \"hypothesis\". The hypothesis function for Logistic Regression is the Sigmoid \n",
    "        Function, so h is assigned to the sigmoid function which has been previously defined. \n",
    "        \n",
    "        '''\n",
    "        \n",
    "        #loss function (cost) - what we know as h(theta)\n",
    "        #The mathematical notation has been converted into Python code. \n",
    "        loss = -(1/m)*np.sum(y*np.log(h) + (1-y)*np.log(1-h))\n",
    "        \n",
    "        #Batch Gradient Descent Algorithm\n",
    "        derW = (1/m)*np.dot(h-y,X.T)\n",
    "        #iteration calculates the derivative of the parameters in order to \n",
    "        #improve the result\n",
    "        derB = (1/m)*np.sum(h-y)\n",
    "        \n",
    "        \n",
    "        '''\n",
    "        derW: Derivative of the weight W update code \n",
    "        derB: Derivative of the parameter B update code\n",
    "        \n",
    "        Both variables are being updated through the derivative calculation using the np.dot matrix and mathematical \n",
    "        calculations implemented from the notation provided in the lecture slides. \n",
    "        \n",
    "        ((1/m)*np.dot(h-y,X.T))\n",
    "        \n",
    "        '''\n",
    "        #updating b to find local minima. \n",
    "        \n",
    "        #updating both w and b to find local minima. \n",
    "        \n",
    "        W = W - lr*derW.T #multiplying learning rate to get closer to global minimum and updating\n",
    "        B = B - lr*derB #multiplying learning rate to get closer to global minimum and updating\n",
    "        \n",
    "        lossvalues.append(loss) #appending all loss values in the list as per assignment brief.\n",
    "        \n",
    "        if(i%(iterations/25) == 0): #printing iterations in multiples of 4. \n",
    "            print(\"Loss after\", i, \"iteration is : \", loss)\n",
    "        \n",
    "    return W, B, lossvalues"
   ]
  },
  {
   "cell_type": "code",
   "execution_count": 9,
   "metadata": {},
   "outputs": [
    {
     "name": "stdout",
     "output_type": "stream",
     "text": [
      "Loss after 0 iteration is :  0.6931471805599453\n",
      "Loss after 4 iteration is :  0.6550408795446608\n",
      "Loss after 8 iteration is :  0.629460894846215\n",
      "Loss after 12 iteration is :  0.6113930332837023\n",
      "Loss after 16 iteration is :  0.5989603803046909\n",
      "Loss after 20 iteration is :  0.5905807966522167\n",
      "Loss after 24 iteration is :  0.5848112880817198\n",
      "Loss after 28 iteration is :  0.5806350219109624\n",
      "Loss after 32 iteration is :  0.5774869309029823\n",
      "Loss after 36 iteration is :  0.5750657869974583\n",
      "Loss after 40 iteration is :  0.5731869504224641\n",
      "Loss after 44 iteration is :  0.5717211087690397\n",
      "Loss after 48 iteration is :  0.5705725613593712\n",
      "Loss after 52 iteration is :  0.5696692209337949\n",
      "Loss after 56 iteration is :  0.5689563331514235\n",
      "Loss after 60 iteration is :  0.5683920404831051\n",
      "Loss after 64 iteration is :  0.5679441590029009\n",
      "Loss after 68 iteration is :  0.5675878116696859\n",
      "Loss after 72 iteration is :  0.567303676528206\n",
      "Loss after 76 iteration is :  0.5670766803429873\n",
      "Loss after 80 iteration is :  0.5668950175004708\n",
      "Loss after 84 iteration is :  0.5667494082868066\n",
      "Loss after 88 iteration is :  0.5666325346522322\n",
      "Loss after 92 iteration is :  0.56653860851423\n",
      "Loss after 96 iteration is :  0.5664630397028229\n"
     ]
    }
   ],
   "source": [
    "W, B, lossvalues = logistic(X_train, Y_train, lr = 0.85 , iterations = 100)"
   ]
  },
  {
   "cell_type": "code",
   "execution_count": 10,
   "metadata": {},
   "outputs": [],
   "source": [
    "def findaccuracy(X, y, W, B):\n",
    "    '''\n",
    "    findaccuracy calculates the performance of the model\n",
    "    This function finds the percentage of successful classifications against total cases. \n",
    "    acc is being calculated by dividing the number of successful classifications divided by total cases.\n",
    "    '''\n",
    "    \n",
    "    dotpro = np.dot(W.T, X) + B #re-define the same mathematical notations\n",
    "    h = sigmoid(dotpro)\n",
    "    \n",
    "    h = h > 0.5 #threshold of the sigmoid function\n",
    "    #print(h) \n",
    "    #At this stage h is a boolean value \n",
    "    \n",
    "    # must be converted to Int to execute the calculations to find the accuracy. \n",
    "    \n",
    "    h = np.array(h, dtype = 'int32')\n",
    "    #Convert the datatype of A into integer \n",
    "    \n",
    "    acc = (1 - np.sum(np.absolute(h - y))/y.shape[1])*100 \n",
    "    #Find out accurate percentage against the total data in the set\n",
    "    #Depending on which set is passed y.shape represents the total amount of cases\n",
    "    \n",
    "    print(\"Accuracy : \", acc, \"%\")"
   ]
  },
  {
   "cell_type": "code",
   "execution_count": 11,
   "metadata": {},
   "outputs": [
    {
     "name": "stdout",
     "output_type": "stream",
     "text": [
      "Accuracy :  100.0 %\n"
     ]
    }
   ],
   "source": [
    "findaccuracy(X_test, Y_test, W, B)"
   ]
  },
  {
   "cell_type": "markdown",
   "metadata": {},
   "source": [
    "# Report "
   ]
  },
  {
   "cell_type": "markdown",
   "metadata": {},
   "source": [
    "To implement logistic regression using batch gradient descent with the dataset about the probability of passing an exam vs hour studied, I have implemented 3 main Python functions. First, in the code, there is an import of the two main libraries used: NumPy and Matplotlib. Subsequently, the data has been imported by being copied in a code cell. The data is composed of X: hours studied and y: binary probability where 0 is fail and 1 is pass. In the next code cell, plt.scatter() has been used from Matplotlib to visualise the nature of the data using a very simple scatter plot. The visualisation makes it clear that this dataset requires logistic regression. \n",
    "\n",
    "The next part of the code (following the order from the top of the notebook) is the data pre-processing part. Vstack has been implemented to stack the NumPy arrays X and y in a vertical sequence (row wise) and saved into a variable called “data”, after which np.random.shuffle has been implemented on the transpose of variable data to generate random samples each time the data is run in the code cell, shuffling data is important because it ensures that each data point creates independent change on the model. The next phase is the training and testing split, the split ratio between training and testing is 15:5, during this stage some “reshape” operations have been executed to adjust the dimensions.\n",
    "Sigmoid hypothesis function has been defined as an independent function following the mathematical notations. \n",
    "\n",
    "Sigmoid code:  1/(1+np.exp(-x)) \n",
    "\n",
    "The most relevant function is called logistic, which takes as input parameter X, y, learning rate and number of iterations. At the beginning of the function, I executed some further reshaping and defined an empty list to contain the loss values of each iteration. I have defined a main for loop for each iteration, inside which I have defined the main mathematical concepts for logistic regression: \n",
    "\n",
    "Cost function: -(1/m)*np.sum(y*np.log(h) + (1-y)*np.log(1-h))\n",
    "\n",
    "Updating a parameter through Batch Gradient Descent:  (1/m)*np.dot(h-y,X.T)\n",
    "\n",
    "The main aim of the for loop inside the logistic function is to update the parameters via the learning rate and derivative calculations to get close and reach the global minimum. At the end of the loop, the loss values are appended in the list. There is an if statement to print the loss at each iteration. \n",
    "There is a function called findaccuracy to calculate the accuracy of the performance. \n"
   ]
  },
  {
   "cell_type": "markdown",
   "metadata": {},
   "source": [
    "<h2>Question 1 </h2>\n",
    "\n",
    "After how many iterations, and for which learning rate (α) did your\n",
    "algorithm converge? Plot the loss function with respect to iterations to illustrate this\n",
    "point.\n",
    "\n",
    "<b> Answer </b>\n",
    "\n",
    "In the case of the probability of of \"Passing an exam vs hours worked dataset\", according to my logistic regression algorithm the algorithm starts to converges around the <b>20th iteration</b>, this convergence has been achieved with a learning rate of <b> 0.85 </b>"
   ]
  },
  {
   "cell_type": "code",
   "execution_count": 12,
   "metadata": {},
   "outputs": [
    {
     "data": {
      "image/png": "[encoded data removed]",
      "text/plain": [
       "<Figure size 432x288 with 1 Axes>"
      ]
     },
     "metadata": {
      "needs_background": "light"
     },
     "output_type": "display_data"
    }
   ],
   "source": [
    "iterations = 100\n",
    "plt.plot(np.arange(iterations), lossvalues)\n",
    "plt.xlabel(\"iteration\")\n",
    "plt.ylabel(\"loss\")\n",
    "\n",
    "plt.show()\n",
    "\n",
    "\n",
    "#decreasing the learning rate, means that the curve will take longer to converge and to \n",
    "#reach the local minima"
   ]
  },
  {
   "cell_type": "markdown",
   "metadata": {},
   "source": [
    "<h2> Question 2 </h2>\n",
    "\n",
    "What happens if α is too large? How does this affect the loss function?\n",
    "Plot the loss function with respect to iterations to illustrate this point.\n",
    "\n",
    "<b> Answer </b>\n",
    "\n",
    "If the learning rate is too high, it will mathematically substract with large values, and instead of giving a loss value that decreases in each iteration, it will increase. This also means that the algorithm is not able to reach the global minimum point. I am going to run the regression classifier for 100 iterations with a learning rate of 5, which is relatively high compared to the optimal one in the previous section (0.85) and highlight the results of the loss value and the plot in the upcoming section. \n"
   ]
  },
  {
   "cell_type": "code",
   "execution_count": 13,
   "metadata": {},
   "outputs": [
    {
     "name": "stdout",
     "output_type": "stream",
     "text": [
      "Loss after 0 iteration is :  0.6931471805599453\n",
      "Loss after 4 iteration is :  0.9927501950523454\n",
      "Loss after 8 iteration is :  5.047319835555244\n",
      "Loss after 12 iteration is :  nan\n",
      "Loss after 16 iteration is :  1.588609937007301\n",
      "Loss after 20 iteration is :  3.2135027540758863\n",
      "Loss after 24 iteration is :  nan\n",
      "Loss after 28 iteration is :  1.9396420097772997\n",
      "Loss after 32 iteration is :  1.5893084725406061\n",
      "Loss after 36 iteration is :  1.184299455415316\n",
      "Loss after 40 iteration is :  1.8184561417114058\n",
      "Loss after 44 iteration is :  1.415372537125408\n",
      "Loss after 48 iteration is :  1.1210626119168499\n",
      "Loss after 52 iteration is :  1.406080334055409\n",
      "Loss after 56 iteration is :  1.7383059418961153\n",
      "Loss after 60 iteration is :  1.8979106176253548\n",
      "Loss after 64 iteration is :  1.8002918034678954\n",
      "Loss after 68 iteration is :  1.8581544871611455\n",
      "Loss after 72 iteration is :  1.564705164906976\n",
      "Loss after 76 iteration is :  1.2982303389136172\n",
      "Loss after 80 iteration is :  1.4117311588372492\n",
      "Loss after 84 iteration is :  1.0974437661161056\n",
      "Loss after 88 iteration is :  nan\n",
      "Loss after 92 iteration is :  1.4740321903594764\n",
      "Loss after 96 iteration is :  1.4380730108106015\n"
     ]
    },
    {
     "name": "stderr",
     "output_type": "stream",
     "text": [
      "<ipython-input-8-3768549c2723>:57: RuntimeWarning: divide by zero encountered in log\n",
      "  loss = -(1/m)*np.sum(y*np.log(h) + (1-y)*np.log(1-h))\n",
      "<ipython-input-8-3768549c2723>:57: RuntimeWarning: invalid value encountered in multiply\n",
      "  loss = -(1/m)*np.sum(y*np.log(h) + (1-y)*np.log(1-h))\n"
     ]
    }
   ],
   "source": [
    "W, B, lossvalues = logistic(X_train, Y_train, lr = 5 , iterations = 100)"
   ]
  },
  {
   "cell_type": "code",
   "execution_count": 14,
   "metadata": {},
   "outputs": [
    {
     "data": {
      "image/png": "[encoded data removed]",
      "text/plain": [
       "<Figure size 432x288 with 1 Axes>"
      ]
     },
     "metadata": {
      "needs_background": "light"
     },
     "output_type": "display_data"
    }
   ],
   "source": [
    "iterations = 100\n",
    "plt.plot(np.arange(iterations), lossvalues)\n",
    "plt.xlabel(\"iteration\")\n",
    "plt.ylabel(\"loss\")\n",
    "plt.show()\n",
    "#for very large learning rate. "
   ]
  },
  {
   "cell_type": "markdown",
   "metadata": {},
   "source": [
    "As predicted, the graph does not converge with a high learning rate, so it does not reach the global minimum. "
   ]
  },
  {
   "cell_type": "markdown",
   "metadata": {},
   "source": [
    "<h2> Question 3 </h2>\n",
    "\n",
    "Assume that you are applying logistic regression to the iris (flower)\n",
    "dataset, as in the previous assignment. Answer the following questions:\n",
    "\n",
    "(a) How would your hypothesis function change in this case and why?\n",
    "\n",
    "<b> Answer </b>: \n",
    "\n",
    "The sigmoid hypothesis function can still be used in order to implement Logistic Regression with a multi-class problem such as the Iris dataset it is necessary to use a \"One vs All\" approach. This means that during the iterations of our model, one class needs to be compared to the rest of the classes in turn until all classes have been individually picked out to be compared to the rest of the classes.\n",
    "\n",
    "Alternatively, a different hypothesis function can be used to tackle this problem, for example the softmax hypothesis function. softmax calculates the probability of the output being in all the classes, the sum is always 1, after which the class with the highest probability is selected, this is more suitable for multi-class problems. Also, instead of producing a single binary value like in the dataset of the probability of passing an exam vs hours worked, a one-hot encoded vector could be used for the output for a problem with multiple classes. \n",
    "\n",
    "(b) How would you utilize your implementation of logistic regression in order to\n",
    "perform (multi-class) classification on the iris dataset? Include some pseudocode\n",
    "while discussing your approach. \n",
    "\n",
    "<b> Answer </b> \n",
    "\n",
    "START\n",
    "<br>\n",
    "Download iris Dataset \n",
    "<br>\n",
    "X = Data\n",
    "<br>\n",
    "y = targets\n",
    "<br>\n",
    "Reshape and Vectorize Iris Dataset \n",
    "<br>\n",
    "Split Dataset in x_train, x_test, y_train, y_test \n",
    "<br>\n",
    "Function Logistic Regression: \n",
    "<br>\n",
    "    lossvalue = [] \n",
    "<br>\n",
    "    hypothesis = softmax()\n",
    "<br>\n",
    "    For each iteration: \n",
    "        - Apply normal logistic regression cost function with softmax \n",
    "        - Apply gradient descend to update parameters \n",
    "        - Update parameters \n",
    "        - Produce one-hot encoded array with probabilities of multiple classes\n",
    "        - chose class with highest probability and save\n",
    "        - Append loss values in lossvalue list\n",
    "        - return class with highest probability\n",
    "    End \n",
    "End "
   ]
  }
 ],
 "metadata": {
  "kernelspec": {
   "display_name": "Python 3",
   "language": "python",
   "name": "python3"
  },
  "language_info": {
   "codemirror_mode": {
    "name": "ipython",
    "version": 3
   },
   "file_extension": ".py",
   "mimetype": "text/x-python",
   "name": "python",
   "nbconvert_exporter": "python",
   "pygments_lexer": "ipython3",
   "version": "3.8.3"
  }
 },
 "nbformat": 4,
 "nbformat_minor": 4
}
